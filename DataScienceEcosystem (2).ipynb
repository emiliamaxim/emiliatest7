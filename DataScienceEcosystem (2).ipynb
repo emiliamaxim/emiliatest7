{
 "cells": [
  {
   "cell_type": "markdown",
   "metadata": {},
   "source": [
    "<center>\n",
    "    <img src=\"https://cf-courses-data.s3.us.cloud-object-storage.appdomain.cloud/IBMDeveloperSkillsNetwork-DS0105EN-SkillsNetwork/labs/Module2/images/SN_web_lightmode.png\" width=\"300\" alt=\"cognitiveclass.ai logo\">\n",
    "</center>\n"
   ]
  },
  {
   "cell_type": "markdown",
   "metadata": {},
   "source": [
    "#### Add your code below following the instructions given in the course\n"
   ]
  },
  {
   "cell_type": "markdown",
   "metadata": {},
   "source": [
    "# Data Science Tools and Ecosystem"
   ]
  },
  {
   "cell_type": "markdown",
   "metadata": {},
   "source": [
    "In this notebook, Data Science Tools and Ecosystem are summarized."
   ]
  },
  {
   "cell_type": "code",
   "execution_count": 1,
   "metadata": {},
   "outputs": [
    {
     "name": "stdout",
     "output_type": "stream",
     "text": [
      "1. Python\n",
      "2. R\n",
      "3. SQL\n"
     ]
    }
   ],
   "source": [
    "# Markdown cell to list popular data science languages\n",
    "data_science_languages=[\n",
    "    \"Python\",\n",
    "    \"R\",\n",
    "    \"SQL\"\n",
    "]\n",
    "\n",
    "for i, language in enumerate(data_science_languages,1):\n",
    "    print(f\"{i}. {language}\")"
   ]
  },
  {
   "cell_type": "markdown",
   "metadata": {},
   "source": [
    "\n",
    "**Objectives:**\n",
    "\n",
    "- List popular languages for Data Science\n",
    "- Identify commonly used libraries in Data Science\n",
    "- Understand development environment tools used in Data Science\n",
    "- Learn how to evaluate basic arithmetic expressions in Python\n",
    "- Convert time units (e.g., minutes to hours) using Python\n",
    "\n"
   ]
  },
  {
   "cell_type": "code",
   "execution_count": 6,
   "metadata": {},
   "outputs": [
    {
     "name": "stdout",
     "output_type": "stream",
     "text": [
      "Some of the commonly used libraries used by Data Scientists include:\n",
      "\n",
      "1. Pandas\n",
      "2. NumPy\n",
      "3. Matplotlib\n",
      "4. Scikit-learn\n",
      "\n"
     ]
    }
   ],
   "source": [
    "# List of commonly used data science libraries\n",
    "data_science_libraries = [\n",
    "    \"Pandas\",\n",
    "    \"NumPy\",\n",
    "    \"Matplotlib\",\n",
    "    \"Scikit-learn\"\n",
    "]\n",
    "\n",
    "# Display the ordered list in markdown format\n",
    "markdown_libraries = \"Some of the commonly used libraries used by Data Scientists include:\\n\\n\"\n",
    "for i, library in enumerate(data_science_libraries, 1):\n",
    "    markdown_libraries += f\"{i}. {library}\\n\"\n",
    "\n",
    "print(markdown_libraries)"
   ]
  },
  {
   "cell_type": "code",
   "execution_count": 7,
   "metadata": {},
   "outputs": [
    {
     "name": "stdout",
     "output_type": "stream",
     "text": [
      "\n",
      "| Data Science Tools |\n",
      "|--------------------|\n",
      "| Jupyter Notebook |\n",
      "| RStudio |\n",
      "| Apache Zeppelin |\n",
      "\n"
     ]
    }
   ],
   "source": [
    "# Creating a single-column table with Data Science Tools\n",
    "data_science_tools = [\n",
    "    \"Jupyter Notebook\",\n",
    "    \"RStudio\",\n",
    "    \"Apache Zeppelin\"\n",
    "]\n",
    "\n",
    "# Generate markdown for the table\n",
    "markdown_table = \"\"\"\n",
    "| Data Science Tools |\n",
    "|--------------------|\n",
    "\"\"\"\n",
    "for tool in data_science_tools:\n",
    "    markdown_table += f\"| {tool} |\\n\"\n",
    "\n",
    "print(markdown_table)"
   ]
  },
  {
   "cell_type": "markdown",
   "metadata": {},
   "source": [
    "\n",
    "### Below are a few examples of evaluating arithmetic expressions in Python\n",
    "\n"
   ]
  },
  {
   "cell_type": "code",
   "execution_count": 10,
   "metadata": {},
   "outputs": [
    {
     "data": {
      "text/plain": [
       "17"
      ]
     },
     "execution_count": 10,
     "metadata": {},
     "output_type": "execute_result"
    }
   ],
   "source": [
    "# This is a simple arithmetic expression to multiply then add integers\n",
    "result = (3 * 4) + 5\n",
    "\n",
    "# Display the result\n",
    "result"
   ]
  },
  {
   "cell_type": "code",
   "execution_count": 11,
   "metadata": {},
   "outputs": [
    {
     "name": "stdout",
     "output_type": "stream",
     "text": [
      "3.3333333333333335\n"
     ]
    }
   ],
   "source": [
    "# This will convert 200 minutes to hours by dividing by 60\n",
    "minutes = 200\n",
    "hours = minutes / 60\n",
    "\n",
    "# Display the result\n",
    "print(hours)"
   ]
  },
  {
   "cell_type": "markdown",
   "metadata": {},
   "source": [
    "**Objectives:**\n",
    "\n",
    "- List popular programming languages used in Data Science.\n",
    "- Explain the role of libraries and frameworks in Data Science.\n",
    "- Demonstrate how to import and clean datasets using Python.\n",
    "- Show how to visualize data using matplotlib and seaborn.\n",
    "- Discuss key statistical concepts relevant to data analysis."
   ]
  },
  {
   "cell_type": "markdown",
   "metadata": {},
   "source": [
    "\n",
    "## Author\n",
    "\n",
    "Emilia Maxim\n"
   ]
  },
  {
   "cell_type": "code",
   "execution_count": null,
   "metadata": {},
   "outputs": [],
   "source": []
  }
 ],
 "metadata": {
  "kernelspec": {
   "display_name": "Python 3 (ipykernel)",
   "language": "python",
   "name": "python3"
  },
  "language_info": {
   "codemirror_mode": {
    "name": "ipython",
    "version": 3
   },
   "file_extension": ".py",
   "mimetype": "text/x-python",
   "name": "python",
   "nbconvert_exporter": "python",
   "pygments_lexer": "ipython3",
   "version": "3.12.8"
  }
 },
 "nbformat": 4,
 "nbformat_minor": 4
}
